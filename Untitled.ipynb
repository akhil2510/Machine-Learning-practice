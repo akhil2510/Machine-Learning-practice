{
 "cells": [
  {
   "cell_type": "markdown",
   "metadata": {},
   "source": [
    "# set 1"
   ]
  },
  {
   "cell_type": "code",
   "execution_count": null,
   "metadata": {},
   "outputs": [],
   "source": []
  },
  {
   "cell_type": "code",
   "execution_count": 1,
   "metadata": {},
   "outputs": [
    {
     "name": "stdout",
     "output_type": "stream",
     "text": [
      "Enter radius : 5\n",
      "Area of Circle with Radius  5.0  is :  78.5\n"
     ]
    }
   ],
   "source": [
    "r = float(input(\"Enter radius : \"))\n",
    "area = float(3.14*r*r)\n",
    "print(\"Area of Circle with Radius \", r, \" is : \", area)"
   ]
  },
  {
   "cell_type": "code",
   "execution_count": 2,
   "metadata": {},
   "outputs": [
    {
     "name": "stdout",
     "output_type": "stream",
     "text": [
      "Enter Your first Name Akhilesh\n",
      "Enter Last Name Muchhala\n",
      "Akhilesh Muchhala\n"
     ]
    }
   ],
   "source": [
    "first_name = input(\"Enter Your first Name \")\n",
    "Last_name = input(\"Enter Last Name \")\n",
    "print(first_name + \" \" + Last_name)"
   ]
  },
  {
   "cell_type": "code",
   "execution_count": 3,
   "metadata": {},
   "outputs": [
    {
     "name": "stdout",
     "output_type": "stream",
     "text": [
      "Enter first name Akhilesh\n",
      "Akhilesh****\n"
     ]
    }
   ],
   "source": [
    "first_name = input(\"Enter first name \")\n",
    "print(first_name + \"****\")"
   ]
  },
  {
   "cell_type": "code",
   "execution_count": 4,
   "metadata": {},
   "outputs": [
    {
     "name": "stdout",
     "output_type": "stream",
     "text": [
      "Enter first Number 5\n",
      "Enter second Number 4\n",
      "Enter third Number 6\n",
      "15\n"
     ]
    }
   ],
   "source": [
    "a = int(input(\"Enter first Number \"))\n",
    "b = int(input(\"Enter second Number \"))\n",
    "c = int(input(\"Enter third Number \"))\n",
    "print(a+b+c)"
   ]
  },
  {
   "cell_type": "code",
   "execution_count": 6,
   "metadata": {},
   "outputs": [
    {
     "name": "stdout",
     "output_type": "stream",
     "text": [
      "Enter first Number 54\n",
      "Enter second Number 68\n",
      "Enter third Number 75\n",
      "-89\n"
     ]
    }
   ],
   "source": [
    "a = int(input(\"Enter first Number \"))\n",
    "b = int(input(\"Enter second Number \"))\n",
    "c = int(input(\"Enter third Number \"))\n",
    "print(a-b-c)"
   ]
  },
  {
   "cell_type": "code",
   "execution_count": 7,
   "metadata": {},
   "outputs": [
    {
     "name": "stdout",
     "output_type": "stream",
     "text": [
      "Enter first Number 5.3\n",
      "Enter second Number 4.2\n",
      "Enter third Number 2.3\n",
      "-1.2000000000000002\n"
     ]
    }
   ],
   "source": [
    "a = float(input(\"Enter first Number \"))\n",
    "b = float(input(\"Enter second Number \"))\n",
    "c = float(input(\"Enter third Number \"))\n",
    "print(a-b-c)"
   ]
  },
  {
   "cell_type": "markdown",
   "metadata": {},
   "source": [
    "# set 2"
   ]
  },
  {
   "cell_type": "markdown",
   "metadata": {},
   "source": [
    "# 1"
   ]
  },
  {
   "cell_type": "code",
   "execution_count": 9,
   "metadata": {},
   "outputs": [
    {
     "name": "stdout",
     "output_type": "stream",
     "text": [
      "Enter first Number  5\n",
      "Enter second Number 3\n",
      "x+y 8\n",
      "x-y 2\n",
      "x*y 15\n",
      "x/y 1.6666666666666667\n",
      "x//y 1\n",
      "x%y 2\n",
      "x**y 125\n"
     ]
    }
   ],
   "source": [
    "x = int(input(\"Enter first Number  \"))\n",
    "y = int(input(\"Enter second Number \"))\n",
    "\n",
    "print(\"x+y\", x+y)\n",
    "print(\"x-y\", x-y)\n",
    "print(\"x*y\", x*y)\n",
    "print(\"x/y\", x/y)\n",
    "print(\"x//y\", x//y)\n",
    "print(\"x%y\", x%y)\n",
    "print(\"x**y\", x**y)\n"
   ]
  },
  {
   "cell_type": "markdown",
   "metadata": {},
   "source": [
    "# 2"
   ]
  },
  {
   "cell_type": "code",
   "execution_count": 10,
   "metadata": {},
   "outputs": [
    {
     "name": "stdout",
     "output_type": "stream",
     "text": [
      "Enter first Number  2.3\n",
      "Enter second Number 5.3\n",
      "x+y 7.6\n",
      "x-y -3.0\n",
      "x*y 12.19\n",
      "x/y 0.43396226415094336\n",
      "x//y 0.0\n",
      "x%y 2.3\n",
      "x**y 82.6337631255409\n"
     ]
    }
   ],
   "source": [
    "x = float(input(\"Enter first Number  \"))\n",
    "y = float(input(\"Enter second Number \"))\n",
    "\n",
    "print(\"x+y\", x+y)\n",
    "print(\"x-y\", x-y)\n",
    "print(\"x*y\", x*y)\n",
    "print(\"x/y\", x/y)\n",
    "print(\"x//y\", x//y)\n",
    "print(\"x%y\", x%y)\n",
    "print(\"x**y\", x**y)"
   ]
  },
  {
   "cell_type": "markdown",
   "metadata": {},
   "source": [
    "## 5"
   ]
  },
  {
   "cell_type": "code",
   "execution_count": 16,
   "metadata": {},
   "outputs": [
    {
     "name": "stdout",
     "output_type": "stream",
     "text": [
      "Enter length of Rect 5.2\n",
      "Enter Breadth of Rect 5.20\n",
      "Is not a Square\n"
     ]
    }
   ],
   "source": [
    "a = float(input(\"Enter length of Rect \"))\n",
    "a = float(input(\"Enter Breadth of Rect \"))\n",
    "if a==b:\n",
    "    print(\"Is a Square\")\n",
    "else:\n",
    "    print(\"Is not a Square\")"
   ]
  },
  {
   "cell_type": "markdown",
   "metadata": {},
   "source": [
    "# 6"
   ]
  },
  {
   "cell_type": "code",
   "execution_count": 17,
   "metadata": {},
   "outputs": [
    {
     "name": "stdout",
     "output_type": "stream",
     "text": [
      "Enter  first Number 5\n",
      "Enter second Number 3\n",
      "5\n"
     ]
    }
   ],
   "source": [
    "a = int(input(\"Enter  first Number \"))\n",
    "b = int(input(\"Enter second Number \"))\n",
    "if a>b:\n",
    "    print(a)\n",
    "else:\n",
    "    print(b)"
   ]
  },
  {
   "cell_type": "code",
   "execution_count": 18,
   "metadata": {},
   "outputs": [
    {
     "name": "stdout",
     "output_type": "stream",
     "text": [
      "Ente Number 57\n",
      "C\n"
     ]
    }
   ],
   "source": [
    "a = int(input(\"Enter Number \"))\n",
    "\n",
    "if a<25:\n",
    "    print(\"F\")\n",
    "elif a>=25 and a<45:\n",
    "    print(\"E\")\n",
    "elif a>=45 and a<50:\n",
    "    print(\"D\")\n",
    "elif a>=50 and a<60:\n",
    "    print(\"C\")\n",
    "elif a>=60 and a<80:\n",
    "    print(\"B\")\n",
    "elif a>=80:\n",
    "    print(\"A\")\n"
   ]
  },
  {
   "cell_type": "code",
   "execution_count": 19,
   "metadata": {},
   "outputs": [
    {
     "name": "stdout",
     "output_type": "stream",
     "text": [
      "Enter Number of classes held 25\n",
      "Enter Number of classes attended 20\n",
      " percentage of class attended  80.0\n",
      "Yes Allowed\n"
     ]
    }
   ],
   "source": [
    "a = int(input(\"Enter Number of classes held \"))\n",
    "b = int(input(\"Enter Number of classes attended \"))\n",
    "c = b/a * 100\n",
    "print(\" percentage of class attended \", c)\n",
    "if c >= 75:\n",
    "    print(\"Yes Allowed\")\n",
    "else:\n",
    "    print(\"Not Allowed\")"
   ]
  },
  {
   "cell_type": "markdown",
   "metadata": {},
   "source": [
    "# Set 3"
   ]
  },
  {
   "cell_type": "markdown",
   "metadata": {},
   "source": [
    "# 1"
   ]
  },
  {
   "cell_type": "code",
   "execution_count": null,
   "metadata": {},
   "outputs": [],
   "source": [
    "i=1\n",
    "while i <= 10:\n",
    "    print(i)\n",
    "    i += 1"
   ]
  },
  {
   "cell_type": "markdown",
   "metadata": {},
   "source": [
    "# 2"
   ]
  },
  {
   "cell_type": "code",
   "execution_count": null,
   "metadata": {},
   "outputs": [],
   "source": [
    "for i in range(1,6):\n",
    "    for j in range(1, i+1):\n",
    "        print(j, end=\" \")\n",
    "    print('\\n')"
   ]
  },
  {
   "cell_type": "markdown",
   "metadata": {},
   "source": [
    "# 3"
   ]
  },
  {
   "cell_type": "code",
   "execution_count": null,
   "metadata": {},
   "outputs": [],
   "source": [
    "for i in range(5):\n",
    "    for j in range(5-i):\n",
    "        print(j, end=\" \")\n",
    "    print('\\n')\n"
   ]
  },
  {
   "cell_type": "markdown",
   "metadata": {},
   "source": [
    "# 4"
   ]
  },
  {
   "cell_type": "code",
   "execution_count": null,
   "metadata": {},
   "outputs": [],
   "source": [
    "a = int(input(\"Enter number \"))\n",
    "for i in range(1,11):\n",
    "    print(i*a)"
   ]
  },
  {
   "cell_type": "markdown",
   "metadata": {},
   "source": [
    "# 5"
   ]
  },
  {
   "cell_type": "code",
   "execution_count": null,
   "metadata": {},
   "outputs": [],
   "source": [
    "a = -10\n",
    "while a < 0 :\n",
    "    print(a)\n",
    "    a+=1"
   ]
  },
  {
   "cell_type": "markdown",
   "metadata": {},
   "source": [
    "# 6"
   ]
  },
  {
   "cell_type": "code",
   "execution_count": null,
   "metadata": {},
   "outputs": [],
   "source": [
    "#Fibonacci sequence:\n",
    "a = 0\n",
    "b = 1\n",
    "c = 0\n",
    "print(\"Fibonacci sequence: \")\n",
    "print(a, end=\" \")\n",
    "print(b, end=\" \")\n",
    "for i in range(8):\n",
    "    c = a + b\n",
    "    a = b\n",
    "    b = c\n",
    "    print(c, end=\" \")"
   ]
  },
  {
   "cell_type": "markdown",
   "metadata": {},
   "source": [
    "# 7"
   ]
  },
  {
   "cell_type": "code",
   "execution_count": null,
   "metadata": {},
   "outputs": [],
   "source": [
    "a = int(input(\"Enter Number \"))\n",
    "a = str(a)\n",
    "a = a[::-1]\n",
    "a = int(a)\n",
    "print(a)"
   ]
  }
 ],
 "metadata": {
  "kernelspec": {
   "display_name": "Python 3",
   "language": "python",
   "name": "python3"
  },
  "language_info": {
   "codemirror_mode": {
    "name": "ipython",
    "version": 3
   },
   "file_extension": ".py",
   "mimetype": "text/x-python",
   "name": "python",
   "nbconvert_exporter": "python",
   "pygments_lexer": "ipython3",
   "version": "3.8.2"
  }
 },
 "nbformat": 4,
 "nbformat_minor": 4
}
